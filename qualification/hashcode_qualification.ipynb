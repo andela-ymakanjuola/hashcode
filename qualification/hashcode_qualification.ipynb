{
 "cells": [
  {
   "cell_type": "markdown",
   "metadata": {},
   "source": [
    "### Inititalize modules and variable"
   ]
  },
  {
   "cell_type": "code",
   "execution_count": 1,
   "metadata": {
    "collapsed": false
   },
   "outputs": [],
   "source": [
    "import pprint, math, matplotlib.pyplot as plt\n",
    "from collections import defaultdict, deque\n",
    "\n",
    "%matplotlib inline\n",
    "pp = pprint.PrettyPrinter(depth=6)\n",
    "inventory = {}\n",
    "warehouses = {}\n",
    "orders = {}\n",
    "drone_locations = {}"
   ]
  },
  {
   "cell_type": "markdown",
   "metadata": {},
   "source": [
    "### Read input from files"
   ]
  },
  {
   "cell_type": "code",
   "execution_count": 2,
   "metadata": {
    "collapsed": false
   },
   "outputs": [],
   "source": [
    "#out = open('result.out')\n",
    "\n",
    "with open('input/example.in', 'r') as f:     \n",
    "    rows, cols, no_drones, simulation_deadline, max_load = map(int, f.next().strip().split(' '))\n",
    "    no_product_types = int(f.next())\n",
    "    product_type_weights = f.next().strip().split()\n",
    "    no_of_warehouse = int(f.next())\n",
    "\n",
    "    for T in range(no_product_types):\n",
    "        inventory[T] = product_type_weights[T]\n",
    "\n",
    "    for warehouse in range(no_of_warehouse):\n",
    "        location = tuple(map(int, f.next().strip().split(' ')))\n",
    "        items = map(int, f.next().strip().split(\" \"))\n",
    "        warehouses[location] = items\n",
    "        drone_locations[warehouse] = location\n",
    "        \n",
    "    no_of_orders = int(f.next())\n",
    "    for order in range(no_of_orders):\n",
    "        location = tuple(map(int, f.next().strip().split(' ')))\n",
    "        values = {'count': int(f.next()), 'orders': map(int, f.next().strip().split(' '))}\n",
    "        orders[location] = values\n",
    "        "
   ]
  },
  {
   "cell_type": "code",
   "execution_count": 3,
   "metadata": {
    "collapsed": false
   },
   "outputs": [
    {
     "name": "stdout",
     "output_type": "stream",
     "text": [
      "{(0, 0): [5, 1, 0], (5, 5): [0, 10, 2]}\n"
     ]
    }
   ],
   "source": [
    "pp.pprint(warehouses)"
   ]
  },
  {
   "cell_type": "code",
   "execution_count": 4,
   "metadata": {
    "collapsed": false
   },
   "outputs": [
    {
     "name": "stdout",
     "output_type": "stream",
     "text": [
      "{0: '100', 1: '5', 2: '450'}\n"
     ]
    }
   ],
   "source": [
    "pp.pprint(inventory)"
   ]
  },
  {
   "cell_type": "code",
   "execution_count": 5,
   "metadata": {
    "collapsed": false
   },
   "outputs": [
    {
     "name": "stdout",
     "output_type": "stream",
     "text": [
      "{(1, 1): {'count': 2, 'orders': [2, 0]},\n",
      " (3, 3): {'count': 3, 'orders': [0, 0, 0]},\n",
      " (5, 6): {'count': 1, 'orders': [2]}}\n"
     ]
    }
   ],
   "source": [
    "pp.pprint(orders)"
   ]
  },
  {
   "cell_type": "markdown",
   "metadata": {},
   "source": [
    "### Create a Network of Nodes (Orders and Warehouse Locations)"
   ]
  },
  {
   "cell_type": "code",
   "execution_count": 13,
   "metadata": {
    "collapsed": false
   },
   "outputs": [
    {
     "name": "stdout",
     "output_type": "stream",
     "text": [
      "(5, 6) (5, 6) {'weight': 0.0}\n",
      "(5, 6) (3, 3) {'weight': 4.0}\n",
      "(5, 6) (0, 0) {'weight': 8.0}\n",
      "(5, 6) (5, 5) {'weight': 1.0}\n",
      "(5, 6) (1, 1) {'weight': 6.0}\n",
      "(3, 3) (3, 3) {'weight': 0.0}\n",
      "(3, 3) (0, 0) {'weight': 4.0}\n",
      "(3, 3) (5, 5) {'weight': 3.0}\n",
      "(3, 3) (1, 1) {'weight': 3.0}\n",
      "(0, 0) (0, 0) {'weight': 0.0}\n",
      "(0, 0) (5, 5) {'weight': 7.0}\n",
      "(0, 0) (1, 1) {'weight': 1.0}\n",
      "(5, 5) (5, 5) {'weight': 0.0}\n",
      "(5, 5) (1, 1) {'weight': 6.0}\n",
      "(1, 1) (1, 1) {'weight': 0.0}\n"
     ]
    },
    {
     "data": {
      "image/png": "[encoded data removed]",
      "text/plain": [
       "<matplotlib.figure.Figure at 0x1108f8bd0>"
      ]
     },
     "metadata": {},
     "output_type": "display_data"
    }
   ],
   "source": [
    "import networkx as nx\n",
    "from itertools import product\n",
    "\n",
    "\n",
    "def draw_graph(nodes, graph):\n",
    "\n",
    "    G=nx.Graph()\n",
    "    G.add_weighted_edges_from(graph)\n",
    "    \n",
    "    for line in nx.generate_edgelist(G, data=True):\n",
    "        print line\n",
    "    \n",
    "    # draw graph\n",
    "    pos = nx.shell_layout(G)\n",
    "    nx.draw(G, pos)\n",
    "    \n",
    "    plt.show()\n",
    "\n",
    "nodes = warehouses.keys() + orders.keys()\n",
    "graph = [(A,B,round(math.sqrt((A[0]-B[0])**2 + (A[1]-B[1])**2))) for A,B in list(product(nodes,nodes))]\n",
    "draw_graph(nodes, graph)"
   ]
  },
  {
   "cell_type": "markdown",
   "metadata": {},
   "source": [
    "#### Create a Drone class with methods"
   ]
  },
  {
   "cell_type": "code",
   "execution_count": 7,
   "metadata": {
    "collapsed": false
   },
   "outputs": [],
   "source": [
    "class Drone(object):\n",
    "    def __init__(self):\n",
    "        self.max_load = max_load\n",
    "        self.turns_taken = 0\n",
    "        self.distance_travelled = 0\n",
    "        self.inventory = []\n",
    "\n",
    "    def load(self):\n",
    "        self.turns_taken += 1\n",
    "        \n",
    "    def unload(self):\n",
    "        self.turns_taken += 1\n",
    "\n",
    "    def deliver(self):\n",
    "        self.turns_taken += 1\n",
    "        \n",
    "    def wait(self):\n",
    "        self.turns_taken += 1\n",
    "drones = [Drone() for i in range(no_drones)]"
   ]
  },
  {
   "cell_type": "code",
   "execution_count": 8,
   "metadata": {
    "collapsed": false
   },
   "outputs": [
    {
     "name": "stdout",
     "output_type": "stream",
     "text": [
      "{'count': 1, 'orders': [2]}\n",
      "{'count': 3, 'orders': [0, 0, 0]}\n"
     ]
    }
   ],
   "source": [
    "for key, order in orders.iteritems():\n",
    "    order_w = [int(inventory[i]) for i in order['orders']]\n",
    "    if sum(order_w) < max_load:\n",
    "        print order"
   ]
  },
  {
   "cell_type": "code",
   "execution_count": 9,
   "metadata": {
    "collapsed": false
   },
   "outputs": [],
   "source": [
    "def simulation():\n",
    "    pass"
   ]
  }
 ],
 "metadata": {
  "kernelspec": {
   "display_name": "Python 2",
   "language": "python",
   "name": "python2"
  },
  "language_info": {
   "codemirror_mode": {
    "name": "ipython",
    "version": 2
   },
   "file_extension": ".py",
   "mimetype": "text/x-python",
   "name": "python",
   "nbconvert_exporter": "python",
   "pygments_lexer": "ipython2",
   "version": "2.7.11"
  }
 },
 "nbformat": 4,
 "nbformat_minor": 0
}
